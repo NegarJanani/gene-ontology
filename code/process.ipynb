{
 "cells": [
  {
   "cell_type": "code",
   "execution_count": 1,
   "metadata": {
    "execution": {
     "iopub.execute_input": "2024-12-03T18:46:00.076599Z",
     "iopub.status.busy": "2024-12-03T18:46:00.076453Z",
     "iopub.status.idle": "2024-12-03T18:46:00.459058Z",
     "shell.execute_reply": "2024-12-03T18:46:00.458632Z"
    }
   },
   "outputs": [],
   "source": [
    "import collections\n",
    "import os\n",
    "\n",
    "import pandas\n",
    "import networkx\n",
    "\n",
    "import utilities\n",
    "from math import gcd\n"
   ]
  },
  {
   "cell_type": "code",
   "execution_count": 2,
   "metadata": {
    "collapsed": true,
    "execution": {
     "iopub.execute_input": "2024-12-03T18:46:00.461789Z",
     "iopub.status.busy": "2024-12-03T18:46:00.461495Z",
     "iopub.status.idle": "2024-12-03T18:46:00.464809Z",
     "shell.execute_reply": "2024-12-03T18:46:00.464455Z"
    }
   },
   "outputs": [],
   "source": [
    "download_dir = os.path.join('..', 'download')\n",
    "annotation_dir = os.path.join('..', 'annotations')"
   ]
  },
  {
   "cell_type": "code",
   "execution_count": 3,
   "metadata": {
    "collapsed": true,
    "execution": {
     "iopub.execute_input": "2024-12-03T18:46:00.466703Z",
     "iopub.status.busy": "2024-12-03T18:46:00.466560Z",
     "iopub.status.idle": "2024-12-03T18:46:00.469968Z",
     "shell.execute_reply": "2024-12-03T18:46:00.469620Z"
    }
   },
   "outputs": [],
   "source": [
    "remove_subsets = {\n",
    "    'goantislim_grouping', # Grouping classes that can be excluded\n",
    "    'gocheck_do_not_annotate' # Term not to be used for direct annotation\n",
    "    'gocheck_do_not_manually_annotate', # Term not to be used for direct manual annotation\n",
    "}\n",
    "\n",
    "propagate_along = {'is_a', 'part_of'}\n",
    "\n",
    "experimental_codes = {\n",
    "    'EXP', # Inferred from Experiment\n",
    "    'IDA', # Inferred from Direct Assay\n",
    "    'IPI', # Inferred from Physical Interaction\n",
    "    'IMP', # Inferred from Mutant Phenotype\n",
    "    'IGI', # Inferred from Genetic Interaction\n",
    "    'IEP', # Inferred from Expression Pattern\n",
    "}"
   ]
  },
  {
   "cell_type": "markdown",
   "metadata": {},
   "source": [
    "## Read Gene Ontology graph"
   ]
  },
  {
   "cell_type": "code",
   "execution_count": 4,
   "metadata": {
    "execution": {
     "iopub.execute_input": "2024-12-03T18:46:00.471900Z",
     "iopub.status.busy": "2024-12-03T18:46:00.471758Z",
     "iopub.status.idle": "2024-12-03T18:46:05.618924Z",
     "shell.execute_reply": "2024-12-03T18:46:05.618349Z"
    }
   },
   "outputs": [
    {
     "name": "stdout",
     "output_type": "stream",
     "text": [
      "MultiDiGraph named 'go' with 40665 nodes and 78698 edges\n"
     ]
    }
   ],
   "source": [
    "graph = utilities.read_go(download_dir)\n",
    "print(networkx.info(graph))"
   ]
  },
  {
   "cell_type": "code",
   "execution_count": 5,
   "metadata": {
    "execution": {
     "iopub.execute_input": "2024-12-03T18:46:05.623892Z",
     "iopub.status.busy": "2024-12-03T18:46:05.623717Z",
     "iopub.status.idle": "2024-12-03T18:46:05.684059Z",
     "shell.execute_reply": "2024-12-03T18:46:05.683673Z"
    }
   },
   "outputs": [
    {
     "data": {
      "text/html": [
       "<div>\n",
       "<style scoped>\n",
       "    .dataframe tbody tr th:only-of-type {\n",
       "        vertical-align: middle;\n",
       "    }\n",
       "\n",
       "    .dataframe tbody tr th {\n",
       "        vertical-align: top;\n",
       "    }\n",
       "\n",
       "    .dataframe thead th {\n",
       "        text-align: right;\n",
       "    }\n",
       "</style>\n",
       "<table border=\"1\" class=\"dataframe\">\n",
       "  <thead>\n",
       "    <tr style=\"text-align: right;\">\n",
       "      <th></th>\n",
       "      <th>go_id</th>\n",
       "      <th>go_name</th>\n",
       "      <th>go_domain</th>\n",
       "    </tr>\n",
       "  </thead>\n",
       "  <tbody>\n",
       "    <tr>\n",
       "      <th>0</th>\n",
       "      <td>GO:0000001</td>\n",
       "      <td>mitochondrion inheritance</td>\n",
       "      <td>biological_process</td>\n",
       "    </tr>\n",
       "    <tr>\n",
       "      <th>1</th>\n",
       "      <td>GO:0000002</td>\n",
       "      <td>mitochondrial genome maintenance</td>\n",
       "      <td>biological_process</td>\n",
       "    </tr>\n",
       "  </tbody>\n",
       "</table>\n",
       "</div>"
      ],
      "text/plain": [
       "        go_id                           go_name           go_domain\n",
       "0  GO:0000001         mitochondrion inheritance  biological_process\n",
       "1  GO:0000002  mitochondrial genome maintenance  biological_process"
      ]
     },
     "execution_count": 5,
     "metadata": {},
     "output_type": "execute_result"
    }
   ],
   "source": [
    "# dataframe of GO terms\n",
    "go_df = utilities.graph_to_dataframe(graph)\n",
    "go_df.head(2)"
   ]
  },
  {
   "cell_type": "code",
   "execution_count": 6,
   "metadata": {
    "execution": {
     "iopub.execute_input": "2024-12-03T18:46:05.686183Z",
     "iopub.status.busy": "2024-12-03T18:46:05.686031Z",
     "iopub.status.idle": "2024-12-03T18:46:06.019139Z",
     "shell.execute_reply": "2024-12-03T18:46:06.018742Z"
    }
   },
   "outputs": [
    {
     "name": "stdout",
     "output_type": "stream",
     "text": [
      "MultiDiGraph named 'go' with 40665 nodes and 70415 edges\n"
     ]
    }
   ],
   "source": [
    "# Remove nodes that should not be annotated\n",
    "remove_nodes = set()\n",
    "for node, data in graph.nodes(data=True):\n",
    "    if remove_subsets & set(data.get('subset', [])):\n",
    "        remove_nodes.add(node)\n",
    "        #graph.remove_node(node)\n",
    "\n",
    "# Remove edges that should not be propagated along\n",
    "remove_edges = []\n",
    "for u, v, key in graph.edges(data=False, keys=True):\n",
    "    if key not in propagate_along:\n",
    "        remove_edges.append((u, v, key))\n",
    "\n",
    "for u, v, key in remove_edges:\n",
    "    graph.remove_edge(u, v, key)\n",
    "\n",
    "assert networkx.is_directed_acyclic_graph(graph)\n",
    "print(networkx.info(graph))"
   ]
  },
  {
   "cell_type": "markdown",
   "metadata": {},
   "source": [
    "## Read Entrez Gene and annotations"
   ]
  },
  {
   "cell_type": "code",
   "execution_count": 7,
   "metadata": {
    "execution": {
     "iopub.execute_input": "2024-12-03T18:46:06.021326Z",
     "iopub.status.busy": "2024-12-03T18:46:06.021170Z",
     "iopub.status.idle": "2024-12-03T18:48:11.421893Z",
     "shell.execute_reply": "2024-12-03T18:48:11.421441Z"
    }
   },
   "outputs": [
    {
     "name": "stderr",
     "output_type": "stream",
     "text": [
      "/home/math/jananin/gene-ontology/code/utilities.py:13: DtypeWarning: Columns (15) have mixed types. Specify dtype option on import or set low_memory=False.\n",
      "  return pandas.read_table(path, comment='#', names=column_names, na_values=['-'], dtype=dtype, index_col=False)\n"
     ]
    },
    {
     "name": "stderr",
     "output_type": "stream",
     "text": [
      "/home/math/jananin/gene-ontology/code/utilities.py:13: ParserWarning: Length of header or names does not match length of data. This leads to a loss of data with index_col=False.\n",
      "  return pandas.read_table(path, comment='#', names=column_names, na_values=['-'], dtype=dtype, index_col=False)\n"
     ]
    },
    {
     "data": {
      "text/html": [
       "<div>\n",
       "<style scoped>\n",
       "    .dataframe tbody tr th:only-of-type {\n",
       "        vertical-align: middle;\n",
       "    }\n",
       "\n",
       "    .dataframe tbody tr th {\n",
       "        vertical-align: top;\n",
       "    }\n",
       "\n",
       "    .dataframe thead th {\n",
       "        text-align: right;\n",
       "    }\n",
       "</style>\n",
       "<table border=\"1\" class=\"dataframe\">\n",
       "  <thead>\n",
       "    <tr style=\"text-align: right;\">\n",
       "      <th></th>\n",
       "      <th>GeneID</th>\n",
       "      <th>Symbol</th>\n",
       "      <th>type_of_gene</th>\n",
       "      <th>tax_id</th>\n",
       "    </tr>\n",
       "  </thead>\n",
       "  <tbody>\n",
       "    <tr>\n",
       "      <th>0</th>\n",
       "      <td>5692769</td>\n",
       "      <td>NEWENTRY</td>\n",
       "      <td>other</td>\n",
       "      <td>7</td>\n",
       "    </tr>\n",
       "    <tr>\n",
       "      <th>1</th>\n",
       "      <td>2827857</td>\n",
       "      <td>NEWENTRY</td>\n",
       "      <td>other</td>\n",
       "      <td>9</td>\n",
       "    </tr>\n",
       "  </tbody>\n",
       "</table>\n",
       "</div>"
      ],
      "text/plain": [
       "    GeneID    Symbol type_of_gene  tax_id\n",
       "0  5692769  NEWENTRY        other       7\n",
       "1  2827857  NEWENTRY        other       9"
      ]
     },
     "execution_count": 7,
     "metadata": {},
     "output_type": "execute_result"
    }
   ],
   "source": [
    "# Read Entrez Gene info\n",
    "gene_df = utilities.read_gene_info(download_dir)\n",
    "gene_df = gene_df[['GeneID', 'Symbol', 'type_of_gene', 'tax_id']]\n",
    "gene_df.head(2)"
   ]
  },
  {
   "cell_type": "code",
   "execution_count": 8,
   "metadata": {
    "execution": {
     "iopub.execute_input": "2024-12-03T18:48:11.424201Z",
     "iopub.status.busy": "2024-12-03T18:48:11.424045Z",
     "iopub.status.idle": "2024-12-03T18:49:39.644616Z",
     "shell.execute_reply": "2024-12-03T18:49:39.644163Z"
    }
   },
   "outputs": [
    {
     "data": {
      "text/html": [
       "<div>\n",
       "<style scoped>\n",
       "    .dataframe tbody tr th:only-of-type {\n",
       "        vertical-align: middle;\n",
       "    }\n",
       "\n",
       "    .dataframe tbody tr th {\n",
       "        vertical-align: top;\n",
       "    }\n",
       "\n",
       "    .dataframe thead th {\n",
       "        text-align: right;\n",
       "    }\n",
       "</style>\n",
       "<table border=\"1\" class=\"dataframe\">\n",
       "  <thead>\n",
       "    <tr style=\"text-align: right;\">\n",
       "      <th></th>\n",
       "      <th>tax_id</th>\n",
       "      <th>GeneID</th>\n",
       "      <th>GO_ID</th>\n",
       "      <th>Evidence</th>\n",
       "      <th>Qualifier</th>\n",
       "      <th>GO_term</th>\n",
       "      <th>PubMed</th>\n",
       "      <th>Category</th>\n",
       "    </tr>\n",
       "  </thead>\n",
       "  <tbody>\n",
       "    <tr>\n",
       "      <th>1460596</th>\n",
       "      <td>3702</td>\n",
       "      <td>814629</td>\n",
       "      <td>GO:0003674</td>\n",
       "      <td>ND</td>\n",
       "      <td>enables</td>\n",
       "      <td>molecular_function</td>\n",
       "      <td>NaN</td>\n",
       "      <td>Function</td>\n",
       "    </tr>\n",
       "    <tr>\n",
       "      <th>1460597</th>\n",
       "      <td>3702</td>\n",
       "      <td>814629</td>\n",
       "      <td>GO:0005634</td>\n",
       "      <td>ISM</td>\n",
       "      <td>located_in</td>\n",
       "      <td>nucleus</td>\n",
       "      <td>NaN</td>\n",
       "      <td>Component</td>\n",
       "    </tr>\n",
       "  </tbody>\n",
       "</table>\n",
       "</div>"
      ],
      "text/plain": [
       "         tax_id  GeneID       GO_ID Evidence   Qualifier             GO_term  \\\n",
       "1460596    3702  814629  GO:0003674       ND     enables  molecular_function   \n",
       "1460597    3702  814629  GO:0005634      ISM  located_in             nucleus   \n",
       "\n",
       "        PubMed   Category  \n",
       "1460596    NaN   Function  \n",
       "1460597    NaN  Component  "
      ]
     },
     "execution_count": 8,
     "metadata": {},
     "output_type": "execute_result"
    }
   ],
   "source": [
    "# Read annotations\n",
    "\n",
    "# Define 45 TaxIds available in websurface https://git.dhimmel.com/gene-ontology/\n",
    "taxon_ids_to_include = [9606,10116,10090,3702,7955,7227,6239,559292,9913,4896,352472,9031,227321,511145,214684,9823\n",
    "                        ,198094,39947,36329,9615,211586,223283,243231,195103,227377,39946,4536,4532,4535,4537,40148,65491,4534,29690,65489\n",
    "                        ,4528,4529,4538,29689,40149,52545,63629,83307,83308,83309]\n",
    "\n",
    "goa_df = utilities.read_gene2go(download_dir)\n",
    "# Filter to include only annotations from the website\n",
    "goa_df = goa_df[goa_df['tax_id'].isin(taxon_ids_to_include)]\n",
    "\n",
    "goa_df.head(2)"
   ]
  },
  {
   "cell_type": "markdown",
   "metadata": {},
   "source": [
    "## Add and propagate annotations"
   ]
  },
  {
   "cell_type": "code",
   "execution_count": 9,
   "metadata": {
    "execution": {
     "iopub.execute_input": "2024-12-03T18:49:39.646954Z",
     "iopub.status.busy": "2024-12-03T18:49:39.646798Z",
     "iopub.status.idle": "2024-12-03T18:49:39.651887Z",
     "shell.execute_reply": "2024-12-03T18:49:39.651502Z"
    }
   },
   "outputs": [],
   "source": [
    "def annotate_graph(graph, goa_df):\n",
    "    \"\"\"Add direct annotations to graph\"\"\"\n",
    "    graph = graph.copy()\n",
    "    \n",
    "    # Add dictionary items for storing annotations\n",
    "    for node, data in graph.nodes.items():\n",
    "        for key in 'direct_annotations', 'direct_not_annotations', 'inferred_annotations':\n",
    "            data[key] = set()\n",
    "\n",
    "    # Populate direct annotations\n",
    "    for i, row in goa_df.iterrows():\n",
    "\n",
    "        go_id = row['GO_ID']\n",
    "        if go_id not in graph:\n",
    "            continue\n",
    "\n",
    "        key = 'direct_not_annotations' if utilities.is_NOT_qaulifier(row.Qualifier) else 'direct_annotations'\n",
    "\n",
    "        gene = row['GeneID']\n",
    "        graph.nodes[go_id][key].add(gene)\n",
    "    \n",
    "    return graph"
   ]
  },
  {
   "cell_type": "code",
   "execution_count": 10,
   "metadata": {
    "execution": {
     "iopub.execute_input": "2024-12-03T18:49:39.653895Z",
     "iopub.status.busy": "2024-12-03T18:49:39.653750Z",
     "iopub.status.idle": "2024-12-03T18:49:39.657551Z",
     "shell.execute_reply": "2024-12-03T18:49:39.657166Z"
    }
   },
   "outputs": [],
   "source": [
    "def propagate_annotations(graph):\n",
    "    \"\"\"Infer annotations through propagations\"\"\"\n",
    "    for node in networkx.topological_sort(graph):\n",
    "        data = graph.nodes[node]\n",
    "        inferred = data['inferred_annotations']\n",
    "        inferred -= data['direct_not_annotations']\n",
    "        inferred |= data['direct_annotations']\n",
    "        for subsuming_node in graph.successors(node):\n",
    "            subsuming_data = graph.nodes[subsuming_node]\n",
    "            subsuming_data['inferred_annotations'] |= inferred"
   ]
  },
  {
   "cell_type": "code",
   "execution_count": 11,
   "metadata": {
    "collapsed": true,
    "execution": {
     "iopub.execute_input": "2024-12-03T18:49:39.659561Z",
     "iopub.status.busy": "2024-12-03T18:49:39.659413Z",
     "iopub.status.idle": "2024-12-03T18:49:39.665446Z",
     "shell.execute_reply": "2024-12-03T18:49:39.665066Z"
    }
   },
   "outputs": [],
   "source": [
    "joiner = lambda x: '|'.join(map(str, x))\n",
    "\n",
    "def extract_annotation_df(graph):\n",
    "    \"\"\"Create an annotation dataframe\"\"\"\n",
    "    rows = list()\n",
    "    for node, data in graph.nodes.items():\n",
    "        if node in remove_nodes:\n",
    "            continue\n",
    "        for kind in 'direct', 'inferred':\n",
    "            for gene in data['{}_annotations'.format(kind)]:\n",
    "                rows.append((node, kind, gene))\n",
    "    \n",
    "    annotation_df = pandas.DataFrame(rows, columns=['go_id', 'kind', 'GeneID'])\n",
    "    annotation_df = annotation_df.merge(gene_df)\n",
    "\n",
    "    rows = list()\n",
    "    for (tax_id, kind), taxon_df in annotation_df.groupby(['tax_id', 'kind']):\n",
    "        for go_id, term_df in taxon_df.groupby('go_id'):\n",
    "            term_df = term_df.sort_values('GeneID')\n",
    "            row = tax_id, go_id, kind, len(term_df), joiner(term_df['GeneID']), joiner(term_df['Symbol'])\n",
    "            rows.append(row)\n",
    "    wide_df = pandas.DataFrame(rows, columns = ['tax_id', 'go_id', 'annotation_type', 'size', 'gene_ids', 'gene_symbols'])\n",
    "    wide_df = go_df.merge(wide_df)\n",
    "    return wide_df"
   ]
  },
  {
   "cell_type": "markdown",
   "metadata": {},
   "source": [
    "## Extract and save annotations"
   ]
  },
  {
   "cell_type": "code",
   "execution_count": 12,
   "metadata": {
    "execution": {
     "iopub.execute_input": "2024-12-03T18:49:39.667499Z",
     "iopub.status.busy": "2024-12-03T18:49:39.667345Z",
     "iopub.status.idle": "2024-12-03T18:55:50.232109Z",
     "shell.execute_reply": "2024-12-03T18:55:50.231675Z"
    }
   },
   "outputs": [
    {
     "name": "stdout",
     "output_type": "stream",
     "text": [
      "../annotations/taxid_3702/GO_annotations-3702-direct-allev.tsv\n",
      "../annotations/taxid_3702/GO_annotations-3702-inferred-allev.tsv\n"
     ]
    },
    {
     "name": "stdout",
     "output_type": "stream",
     "text": [
      "../annotations/taxid_4538/GO_annotations-4538-direct-allev.tsv\n",
      "../annotations/taxid_4538/GO_annotations-4538-inferred-allev.tsv\n"
     ]
    },
    {
     "name": "stdout",
     "output_type": "stream",
     "text": [
      "../annotations/taxid_4896/GO_annotations-4896-direct-allev.tsv\n",
      "../annotations/taxid_4896/GO_annotations-4896-inferred-allev.tsv\n",
      "../annotations/taxid_6239/GO_annotations-6239-direct-allev.tsv\n",
      "../annotations/taxid_6239/GO_annotations-6239-inferred-allev.tsv\n"
     ]
    },
    {
     "name": "stdout",
     "output_type": "stream",
     "text": [
      "../annotations/taxid_7227/GO_annotations-7227-direct-allev.tsv\n",
      "../annotations/taxid_7227/GO_annotations-7227-inferred-allev.tsv\n"
     ]
    },
    {
     "name": "stdout",
     "output_type": "stream",
     "text": [
      "../annotations/taxid_7955/GO_annotations-7955-direct-allev.tsv\n",
      "../annotations/taxid_7955/GO_annotations-7955-inferred-allev.tsv\n"
     ]
    },
    {
     "name": "stdout",
     "output_type": "stream",
     "text": [
      "../annotations/taxid_9031/GO_annotations-9031-direct-allev.tsv\n",
      "../annotations/taxid_9031/GO_annotations-9031-inferred-allev.tsv\n"
     ]
    },
    {
     "name": "stdout",
     "output_type": "stream",
     "text": [
      "../annotations/taxid_9606/GO_annotations-9606-direct-allev.tsv\n",
      "../annotations/taxid_9606/GO_annotations-9606-inferred-allev.tsv\n"
     ]
    },
    {
     "name": "stdout",
     "output_type": "stream",
     "text": [
      "../annotations/taxid_9615/GO_annotations-9615-direct-allev.tsv\n",
      "../annotations/taxid_9615/GO_annotations-9615-inferred-allev.tsv\n"
     ]
    },
    {
     "name": "stdout",
     "output_type": "stream",
     "text": [
      "../annotations/taxid_9823/GO_annotations-9823-direct-allev.tsv\n",
      "../annotations/taxid_9823/GO_annotations-9823-inferred-allev.tsv\n"
     ]
    },
    {
     "name": "stdout",
     "output_type": "stream",
     "text": [
      "../annotations/taxid_9913/GO_annotations-9913-direct-allev.tsv\n",
      "../annotations/taxid_9913/GO_annotations-9913-inferred-allev.tsv\n"
     ]
    },
    {
     "name": "stdout",
     "output_type": "stream",
     "text": [
      "../annotations/taxid_10090/GO_annotations-10090-direct-allev.tsv\n",
      "../annotations/taxid_10090/GO_annotations-10090-inferred-allev.tsv\n"
     ]
    },
    {
     "name": "stdout",
     "output_type": "stream",
     "text": [
      "../annotations/taxid_10116/GO_annotations-10116-direct-allev.tsv\n",
      "../annotations/taxid_10116/GO_annotations-10116-inferred-allev.tsv\n"
     ]
    },
    {
     "name": "stdout",
     "output_type": "stream",
     "text": [
      "../annotations/taxid_36329/GO_annotations-36329-direct-allev.tsv\n",
      "../annotations/taxid_36329/GO_annotations-36329-inferred-allev.tsv\n",
      "../annotations/taxid_39947/GO_annotations-39947-direct-allev.tsv\n",
      "../annotations/taxid_39947/GO_annotations-39947-inferred-allev.tsv\n"
     ]
    },
    {
     "name": "stdout",
     "output_type": "stream",
     "text": [
      "../annotations/taxid_214684/GO_annotations-214684-direct-allev.tsv\n",
      "../annotations/taxid_214684/GO_annotations-214684-inferred-allev.tsv\n",
      "../annotations/taxid_227321/GO_annotations-227321-direct-allev.tsv\n",
      "../annotations/taxid_227321/GO_annotations-227321-inferred-allev.tsv\n"
     ]
    },
    {
     "name": "stdout",
     "output_type": "stream",
     "text": [
      "../annotations/taxid_352472/GO_annotations-352472-direct-allev.tsv\n",
      "../annotations/taxid_352472/GO_annotations-352472-inferred-allev.tsv\n",
      "../annotations/taxid_511145/GO_annotations-511145-direct-allev.tsv\n",
      "../annotations/taxid_511145/GO_annotations-511145-inferred-allev.tsv\n"
     ]
    },
    {
     "name": "stdout",
     "output_type": "stream",
     "text": [
      "../annotations/taxid_559292/GO_annotations-559292-direct-allev.tsv\n",
      "../annotations/taxid_559292/GO_annotations-559292-inferred-allev.tsv\n"
     ]
    },
    {
     "name": "stdout",
     "output_type": "stream",
     "text": [
      "../annotations/taxid_3702/GO_annotations-3702-direct-expev.tsv\n",
      "../annotations/taxid_3702/GO_annotations-3702-inferred-expev.tsv\n",
      "../annotations/taxid_4896/GO_annotations-4896-direct-expev.tsv\n",
      "../annotations/taxid_4896/GO_annotations-4896-inferred-expev.tsv\n",
      "../annotations/taxid_6239/GO_annotations-6239-direct-expev.tsv\n"
     ]
    },
    {
     "name": "stdout",
     "output_type": "stream",
     "text": [
      "../annotations/taxid_6239/GO_annotations-6239-inferred-expev.tsv\n",
      "../annotations/taxid_7227/GO_annotations-7227-direct-expev.tsv\n",
      "../annotations/taxid_7227/GO_annotations-7227-inferred-expev.tsv\n",
      "../annotations/taxid_7955/GO_annotations-7955-direct-expev.tsv\n",
      "../annotations/taxid_7955/GO_annotations-7955-inferred-expev.tsv\n"
     ]
    },
    {
     "name": "stdout",
     "output_type": "stream",
     "text": [
      "../annotations/taxid_9606/GO_annotations-9606-direct-expev.tsv\n",
      "../annotations/taxid_9606/GO_annotations-9606-inferred-expev.tsv\n"
     ]
    },
    {
     "name": "stdout",
     "output_type": "stream",
     "text": [
      "../annotations/taxid_10090/GO_annotations-10090-direct-expev.tsv\n",
      "../annotations/taxid_10090/GO_annotations-10090-inferred-expev.tsv\n"
     ]
    },
    {
     "name": "stdout",
     "output_type": "stream",
     "text": [
      "../annotations/taxid_10116/GO_annotations-10116-direct-expev.tsv\n",
      "../annotations/taxid_10116/GO_annotations-10116-inferred-expev.tsv\n",
      "../annotations/taxid_36329/GO_annotations-36329-direct-expev.tsv\n",
      "../annotations/taxid_36329/GO_annotations-36329-inferred-expev.tsv\n",
      "../annotations/taxid_227321/GO_annotations-227321-direct-expev.tsv\n",
      "../annotations/taxid_227321/GO_annotations-227321-inferred-expev.tsv\n",
      "../annotations/taxid_352472/GO_annotations-352472-direct-expev.tsv\n",
      "../annotations/taxid_352472/GO_annotations-352472-inferred-expev.tsv\n"
     ]
    },
    {
     "name": "stdout",
     "output_type": "stream",
     "text": [
      "../annotations/taxid_511145/GO_annotations-511145-direct-expev.tsv\n",
      "../annotations/taxid_511145/GO_annotations-511145-inferred-expev.tsv\n",
      "../annotations/taxid_559292/GO_annotations-559292-direct-expev.tsv\n",
      "../annotations/taxid_559292/GO_annotations-559292-inferred-expev.tsv\n"
     ]
    }
   ],
   "source": [
    "for ev_type in 'allev', 'expev':\n",
    "    goa_subset_df = goa_df\n",
    "    if ev_type == 'expev':\n",
    "        goa_subset_df = goa_subset_df[goa_subset_df.Evidence.isin(experimental_codes)]\n",
    "    graph_annot = annotate_graph(graph, goa_subset_df)\n",
    "    propagate_annotations(graph_annot)\n",
    "    annotation_df = extract_annotation_df(graph_annot)\n",
    "\n",
    "    for (tax_id, annotation_type), df in annotation_df.groupby(['tax_id', 'annotation_type']):\n",
    "        path = utilities.get_annotation_path(annotation_dir, tax_id, annotation_type, ev_type, mkdir=True)\n",
    "        print(path)\n",
    "        df.to_csv(path, sep='\\t', index=False)"
   ]
  },
  {
   "cell_type": "code",
   "execution_count": 13,
   "metadata": {
    "collapsed": true
   },
   "outputs": [],
   "source": []
  }
 ],
 "metadata": {
  "kernelspec": {
   "display_name": "Python 3 (ipykernel)",
   "language": "python",
   "name": "python3"
  },
  "language_info": {
   "codemirror_mode": {
    "name": "ipython",
    "version": 3
   },
   "file_extension": ".py",
   "mimetype": "text/x-python",
   "name": "python",
   "nbconvert_exporter": "python",
   "pygments_lexer": "ipython3",
   "version": "3.8.19"
  }
 },
 "nbformat": 4,
 "nbformat_minor": 1
}
